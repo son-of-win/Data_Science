{
 "cells": [
  {
   "cell_type": "markdown",
   "metadata": {},
   "source": [
    "# Vectors\n",
    "* *Vector* are objects that can be added together and that can be multiplied by **scalars**, also to form new vectors\n",
    "* *Vectors*  are points in some finite-dimensional space"
   ]
  },
  {
   "cell_type": "code",
   "execution_count": 1,
   "metadata": {},
   "outputs": [],
   "source": [
    "# three-dimentional space\n",
    "height_weight_age = [70, # inches,\n",
    "                    170, # pounds,\n",
    "                    40 ] # years\n",
    "\n",
    "def vector_add(v, w):\n",
    "    return [v_i + w_i for v_i, w_i in zip(v, w)]\n",
    "\n",
    "def vector_subtract(v, w):\n",
    "    return [v_i - w_i for v_i, w_i in zip(v, w)]\n",
    "\n",
    "def dot(v, w):\n",
    "    return sum(v_i * w_i for v_i, w_i in zip(v, w))"
   ]
  },
  {
   "cell_type": "markdown",
   "metadata": {},
   "source": [
    "Tính độ dài của Vector\n",
    "$$ length = \\sqrt{(v_1 - w_1)^2 +...+ (v_n - w_n)^2}$$"
   ]
  },
  {
   "cell_type": "code",
   "execution_count": 2,
   "metadata": {},
   "outputs": [],
   "source": [
    "import math\n",
    "def squared_distance(v, w):\n",
    "    return dot(v,v)\n",
    "def distance(v, w):\n",
    "    return math.sqrt(squared_distance(v,w))\n",
    "\n",
    "def mean(x):\n",
    "    return sum(x) / len(x)\n",
    "\n",
    "def de_mean(x):\n",
    "    x_mean = mean(x)\n",
    "    return [x_i - x_mean for x_i in x]\n",
    "\n",
    "def variance(x):\n",
    "    n = len(x)\n",
    "    deviations = de_mean(x)\n",
    "    return dot(deviations, deviations) / (n - 1)\n",
    "\n",
    "def standard_deviation(x):\n",
    "    return math.sqrt(variance(x))"
   ]
  },
  {
   "cell_type": "markdown",
   "metadata": {},
   "source": [
    "# Correlation\n",
    "* ***varience*** biểu thị một biến đơn lệch so với giá trị trung bình của toàn tập.\n",
    "* ***covarience*** biểu thị cách hai biến thay đổi song song thông qua giá trị trung bình của chúng\n",
    "    * Khi *covarience* lớn <=> x càng lớn thì y càng nhỏ\n",
    "    * khi *covarience* nhỏ thì ngược lại"
   ]
  },
  {
   "cell_type": "code",
   "execution_count": 3,
   "metadata": {},
   "outputs": [],
   "source": [
    "def covariance(x,y):\n",
    "    n = len(x)\n",
    "    return dot(de_mean(x), de_mean(y)) / (n - 1)\n",
    "\n",
    "def correlation(x,y):\n",
    "    stdev_x = standard_deviation(x)\n",
    "    stdev_y = standard_deviation(y)\n",
    "\n",
    "    if stdev_x > 0  and stdev_y > 0:\n",
    "        return covariance(x,y) / (dot(stdev_x, stdev_y))\n",
    "    else:\n",
    "        return 0    #if no variation, correlation is zero"
   ]
  },
  {
   "cell_type": "markdown",
   "metadata": {},
   "source": [
    "* ***Correlation*** luôn bị giới hạn trong khoảng [-1,1], trong đó -1: perfect anti-correlation, 1: perfect correlation\n",
    "* Nếu *Correlation < 0.3* là hai đại lượng có mối tương quan thấp"
   ]
  }
 ],
 "metadata": {
  "interpreter": {
   "hash": "2e5f071ed98bc2139c39844038ce82421d94a846434d936c92702fbb0fce8816"
  },
  "kernelspec": {
   "display_name": "Python 3.9.7 ('.venv': venv)",
   "language": "python",
   "name": "python3"
  },
  "language_info": {
   "codemirror_mode": {
    "name": "ipython",
    "version": 3
   },
   "file_extension": ".py",
   "mimetype": "text/x-python",
   "name": "python",
   "nbconvert_exporter": "python",
   "pygments_lexer": "ipython3",
   "version": "3.9.7"
  },
  "orig_nbformat": 4
 },
 "nbformat": 4,
 "nbformat_minor": 2
}
