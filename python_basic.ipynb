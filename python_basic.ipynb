{
 "cells": [
  {
   "cell_type": "code",
   "execution_count": null,
   "metadata": {},
   "outputs": [],
   "source": [
    "# list comprehensions\n",
    "even_number = [x for x in range(11) if x % 2 == 0]\n",
    "squares = [x * x for x in range(11)]\n",
    "paris = [(x,y) for x in range(10) for y in range(10,20)]"
   ]
  },
  {
   "cell_type": "code",
   "execution_count": null,
   "metadata": {},
   "outputs": [],
   "source": [
    "# enumerate\n",
    "characters = ['a','b','c','d','e']\n",
    "for i, character in enumerate(characters):\n",
    "    print(i, character)"
   ]
  }
 ],
 "metadata": {
  "interpreter": {
   "hash": "2e5f071ed98bc2139c39844038ce82421d94a846434d936c92702fbb0fce8816"
  },
  "kernelspec": {
   "display_name": "Python 3.9.7 ('.venv': venv)",
   "language": "python",
   "name": "python3"
  },
  "language_info": {
   "codemirror_mode": {
    "name": "ipython",
    "version": 3
   },
   "file_extension": ".py",
   "mimetype": "text/x-python",
   "name": "python",
   "nbconvert_exporter": "python",
   "pygments_lexer": "ipython3",
   "version": "3.9.7"
  },
  "orig_nbformat": 4
 },
 "nbformat": 4,
 "nbformat_minor": 2
}
